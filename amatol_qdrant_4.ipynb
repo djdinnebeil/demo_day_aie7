{
 "cells": [
  {
   "cell_type": "code",
   "execution_count": 2,
   "id": "a95e1e96",
   "metadata": {},
   "outputs": [
    {
     "data": {
      "text/plain": [
       "True"
      ]
     },
     "execution_count": 2,
     "metadata": {},
     "output_type": "execute_result"
    }
   ],
   "source": [
    "import os\n",
    "from dotenv import load_dotenv\n",
    "\n",
    "load_dotenv()"
   ]
  },
  {
   "cell_type": "code",
   "execution_count": 19,
   "id": "ac5667e9",
   "metadata": {},
   "outputs": [
    {
     "name": "stdout",
     "output_type": "stream",
     "text": [
      "Indexing 3 files from ./amatol-test …\n"
     ]
    },
    {
     "name": "stderr",
     "output_type": "stream",
     "text": [
      "Indexing files: 100%|██████████| 3/3 [00:00<00:00, 38.97it/s]"
     ]
    },
    {
     "name": "stdout",
     "output_type": "stream",
     "text": [
      "  Staged 1 chunks from newspapers/1918/1918-12-25__philadelphia-inquirer__p2__first-wedding.txt\n",
      "  Staged 1 chunks from newspapers/1918/1918-06-05__philadelphia-inquirer__p13__new-train-service-and-population-size.txt\n",
      "  SKIP (already indexed): books/amatol_book/p007__introduction.txt\n"
     ]
    },
    {
     "name": "stderr",
     "output_type": "stream",
     "text": [
      "\n"
     ]
    },
    {
     "name": "stdout",
     "output_type": "stream",
     "text": [
      "  Flushed 2 chunks → Qdrant\n"
     ]
    }
   ],
   "source": [
    "import os\n",
    "from pathlib import Path\n",
    "from langchain.document_loaders import TextLoader\n",
    "from langchain.text_splitter import RecursiveCharacterTextSplitter\n",
    "from langchain.embeddings import OpenAIEmbeddings\n",
    "from langchain.vectorstores import Qdrant\n",
    "from qdrant_client import QdrantClient\n",
    "from tqdm import tqdm\n",
    "from qdrant_client.models import VectorParams, Distance\n",
    "\n",
    "from text_parsers.unified_parser import parse_file\n",
    "from db import *\n",
    "\n",
    "# --- Settings ---\n",
    "COLLECTION_NAME = 'amatol_docs'\n",
    "ROOT_DIR = './amatol-test'  # Modify this as needed\n",
    "BATCH_SIZE = 12  # configurable, tune for performance\n",
    "\n",
    "# --- Step 1: Recursively find all .txt files ---\n",
    "def find_txt_files(root_dir: str) -> list[Path]:\n",
    "    return [p for p in Path(root_dir).rglob('*.txt')]\n",
    "\n",
    "# --- Step 2: Load ONE file and attach metadata ---\n",
    "from langchain.schema import Document\n",
    "\n",
    "def load_one_document(path: Path, root_dir: str):\n",
    "    parsed = parse_file(str(path))  # unified output\n",
    "    return [Document(page_content=parsed[\"page_content\"], metadata=parsed[\"metadata\"])]\n",
    "\n",
    "# --- Step 3: Chunk helper ---\n",
    "def adaptive_chunk_documents(docs: list[Document], model: str = 'text-embedding-3-small') -> list[Document]:\n",
    "    \"\"\"Take a list of Documents, split adaptively, return list of Documents.\"\"\"\n",
    "    out_docs = []\n",
    "    import tiktoken\n",
    "    enc = tiktoken.encoding_for_model(model)\n",
    "\n",
    "    for doc in docs:\n",
    "        text = doc.page_content\n",
    "        token_count = len(enc.encode(text))\n",
    "\n",
    "        if token_count < 500:\n",
    "            out_docs.append(doc)  # keep whole\n",
    "        elif token_count < 1500:\n",
    "            splitter = RecursiveCharacterTextSplitter.from_tiktoken_encoder(\n",
    "                model_name=model, chunk_size=500, chunk_overlap=80\n",
    "            )\n",
    "            out_docs.extend(splitter.split_documents([doc]))\n",
    "        else:\n",
    "            splitter = RecursiveCharacterTextSplitter.from_tiktoken_encoder(\n",
    "                model_name=model, chunk_size=800, chunk_overlap=100\n",
    "            )\n",
    "            out_docs.extend(splitter.split_documents([doc]))\n",
    "\n",
    "    return out_docs\n",
    "\n",
    "\n",
    "def _embedding_dim(embeddings) -> int:\n",
    "    return len(embeddings.embed_query('dim?'))\n",
    "\n",
    "def _ensure_collection(client: QdrantClient, name: str, embeddings) -> None:\n",
    "    if not client.collection_exists(name):\n",
    "        dim = _embedding_dim(embeddings)\n",
    "        client.create_collection(\n",
    "            collection_name=name,\n",
    "            vectors_config=VectorParams(size=dim, distance=Distance.COSINE),\n",
    "        )\n",
    "\n",
    "# --- Step 4: Batching Helpers ---\n",
    "def flush_batch(buffer, vs, con):\n",
    "    \"\"\"Embed and insert a batch of documents into Qdrant + commit SQLite.\"\"\"\n",
    "    if not buffer:\n",
    "        return\n",
    "\n",
    "    vs.add_documents(buffer)\n",
    "    con.commit()\n",
    "    print(f'  Flushed {len(buffer)} chunks → Qdrant')\n",
    "    buffer.clear()\n",
    "\n",
    "# --- Step 5: Main Ingestion ---\n",
    "def embed_directory_batched(root_dir: str, collection_name: str, batch_size: int = BATCH_SIZE) -> None:\n",
    "    txt_paths = find_txt_files(root_dir)\n",
    "    if not txt_paths:\n",
    "        print(f'No .txt files found under {root_dir}')\n",
    "        return\n",
    "\n",
    "    # Initialize DB\n",
    "    con = ensure_db()\n",
    "\n",
    "    # Initialize embeddings + vectorstore\n",
    "    embeddings = OpenAIEmbeddings(model='text-embedding-3-small')\n",
    "    client = QdrantClient(host='localhost', port=6333)\n",
    "    _ensure_collection(client, collection_name, embeddings)\n",
    "    vs = Qdrant(client=client, collection_name=collection_name, embeddings=embeddings)\n",
    "\n",
    "    staging_buffer = []  # holds chunks before flushing\n",
    "\n",
    "    print(f'Indexing {len(txt_paths)} files from {root_dir} …')\n",
    "    for path in tqdm(txt_paths, desc='Indexing files'):\n",
    "        # Step 1: hash check\n",
    "        h = file_sha256(path)\n",
    "        if document_exists(con, h):\n",
    "            print(f'  SKIP (already indexed): {path.relative_to(root_dir)}')\n",
    "            continue\n",
    "\n",
    "        # Step 2: parse and insert doc row\n",
    "        parsed = parse_file(str(path))\n",
    "\n",
    "        # Step 3: chunk and attach doc_id\n",
    "        docs = [Document(page_content=parsed['page_content'], metadata=parsed['metadata'])]\n",
    "        chunks = adaptive_chunk_documents(docs)\n",
    "        for ch in chunks:\n",
    "            ch.metadata['doc_id'] = h\n",
    "\n",
    "        insert_document(con, path, parsed, h, len(chunks))\n",
    "\n",
    "        # Step 4: stage chunks\n",
    "        staging_buffer.extend(chunks)\n",
    "        print(f'  Staged {len(chunks)} chunks from {path.relative_to(root_dir)}')\n",
    "\n",
    "        # Step 5: flush if buffer full\n",
    "        if len(staging_buffer) >= batch_size:\n",
    "            flush_batch(staging_buffer, vs, con)\n",
    "\n",
    "    # Final flush\n",
    "    flush_batch(staging_buffer, vs, con)\n",
    "\n",
    "\n",
    "if __name__ == '__main__':\n",
    "    embed_directory_batched(ROOT_DIR, COLLECTION_NAME, BATCH_SIZE)\n"
   ]
  },
  {
   "cell_type": "code",
   "execution_count": 9,
   "id": "d9db7802",
   "metadata": {},
   "outputs": [
    {
     "name": "stdout",
     "output_type": "stream",
     "text": [
      "410f32bd-7da1-41a1-94a0-17de09cf0c2e dict_keys(['page_content', 'metadata'])\n",
      "{'page_content': 'Introduction\\n\\nINTRODUCTION\\nBY JAMES BLAINE WALKER\\nSecretary Public Service Commission, 1st Dist. New York; Author of \"Fifty Years of Rapid Transit,\" etc.\\n\\nFOR MANY YEARS travelers on the Pennsylvania Railroad, between Philadelphia and Atlantic City, have viewed from the car windows apparently interminable stretches of flat, sandy country covered with a thick growth of scrub oak, small pine trees and a dense undergrowth of brush. Many have speculated as to what practical use this great stretch of land, useless in its present state for agricultural purposes and yet most advantageously located, could be devoted. Quite unexpectedly the necessities of war brought a large portion of it into practical use. The Atlantic Loading Company, a corporation formed in New York City, entered into a contract with the Government to build and operate a shell loading plant as the agent of the Government. The officers of the company immediately began looking for a site for the contemplated plant, and this section of New Jersey attracted their attention. It was comparatively isolated and yet traversed by important railroad lines which afforded ample transportation facilities for men and materials. The soil was easily worked and there was available a subterranean supply of excellent water readily tapped by driving wells. The moderate, healthful and equable climate was also suitable for a large industrial community.\\n\\nEarly in the year 1918 the Company acquired for the Government a tract of 6000 acres of this land lying near the town of Hammonton, New Jersey. The Company began work on March 4th, 1918, and within a few months had cleared the land, laid out and built a new town and an enormous plant, peopled the former with workmen and equipped the latter with machinery and begun the loading of shell. The transformation of the wilderness into a hive of industry within such a short time was one of the many war-time marvels of American engineering achievement. The history of the work is a story of the accomplishment of brain power, engineering talent and the genius of American business organization, which reflects the highest credit upon all concerned.', 'metadata': {'source_type': 'book', 'source_id': 'amatol_book', 'source_name': 'Amatol Book', 'title': 'Amatol Book', 'author': None, 'year': 1918, 'date': 1918, 'pages': 'p007', 'section': 'Introduction', 'file_path': 'amatol-test/books/amatol_book/p007__introduction.txt', 'citation': 'Amatol Book, 1918, p. 007, Introduction', 'doc_id': '6b3401797559b6cc9d33207831fc73813509fee48aa9b29b815cac5a2438f4b2'}}\n",
      "54e30902-fdc2-4529-aa3d-d472d441f38c dict_keys(['page_content', 'metadata'])\n",
      "{'page_content': 'Philadelphia Actress Marries\\n1918-12-24\\nAnnouncement was made today of the marriage of Miss Agnes Belcher, an actress of Philadelphia, and Peter James Reilly, of New York City, at Amatol. The wedding was the first solemnized at the town which was created by the large munition plants in the locality.\\n\\nThe groom, who was employed as a guard, recently fell heir to a large fortune by the will of a deceased uncle in the West. Rev. Thomas M. Sparks, of Hammonton, performed the ceremony yesterday afternoon.', 'metadata': {'source_type': 'newspaper', 'source_id': 'philadelphia-inquirer', 'source_name': 'Philadelphia Inquirer', 'date': '1918-12-25', 'page': 'p2', 'title': 'Philadelphia Actress Marries', 'subtitles': [], 'attribution': 'Special to The Inquirer.', 'city_date': 'ATLANTIC CITY, N. J., Dec. 24.', 'file_path': 'amatol-test/newspapers/1918/1918-12-25__philadelphia-inquirer__p2__first-wedding.txt', 'citation': 'Philadelphia Inquirer, 1918-12-25, p2, \"Philadelphia Actress Marries\"', 'doc_id': '7fe21d906be1dc9daa423c98bad7e4d1781ab59e4230da3b752b497643512a20'}}\n",
      "bffe35c5-c537-433d-b098-66fbb4f51c19 dict_keys(['page_content', 'metadata'])\n",
      "{'page_content': \"The leaders in the formation of the Atlantic Loading Company were O. J. Salisbury, of Salt Lake City, Utah, J. D. Evans, of the Evans Engineering Corporation, and the Electric Bond and Share Company, of New York, both of whom have had extensive experience in the financing and construction of large works. The new Company was formed by taking the pick of men from several large organizations, including that of the Electric Bond and Share Company, so that each of its men was made up of experts. This method of selecting suitable men was followed throughout the organization, the financial and administrative chiefs as well as the engineers being picked men.\\n\\nThe new organization having in its personnel many of the pioneers in the quantity loading of high explosive shell, embodied in its plant at Amatol the best, most economical and safest methods which could be devised for facilitating and speeding up production. Some of these methods were developed by the Company's own engineers: the power belt conveyor system, which permits the continuous movement of shell through the various operations within the central loading building, is one feature. The men placed in charge of operating the plant thus brought to the work at Amatol the skill necessary to successful operation. The speed with which the call of the Government was met, the co-ordination of plant and men and the results obtained which provided for every contingency stand out as prominent features of the work.\\n\\nIn the following pages Mr. Hammel, the Company's Chief Engineer, and a Member of the American Society of Civil Engineers, has creditably presented an all-too-brief history of this great undertaking, which includes an interesting description of the plant and the town, their construction, operation, capacity, and the efficient organization which made them possible. It is eminently fitting that a permanent record should be made of the achievements of the Company, which may well be proud of its work, for success never attended a larger undertaking initiated and carried through in such a short time and in the face of so many difficulties.\\n\\nAmatol, New Jersey\\nJanuary, 1919\", 'metadata': {'source_type': 'book', 'source_id': 'amatol_book', 'source_name': 'Amatol Book', 'title': 'Amatol Book', 'author': None, 'year': 1918, 'date': 1918, 'pages': 'p007', 'section': 'Introduction', 'file_path': 'amatol-test/books/amatol_book/p007__introduction.txt', 'citation': 'Amatol Book, 1918, p. 007, Introduction', 'doc_id': '6b3401797559b6cc9d33207831fc73813509fee48aa9b29b815cac5a2438f4b2'}}\n",
      "db60750c-4ab3-446b-8d0e-31f3aec66da8 dict_keys(['page_content', 'metadata'])\n",
      "{'page_content': 'Accommodations For Loaders\\n1918-06-04\\nThe West Jersey and Seashore Railroad has just inaugurated a train service to Amatol, the new town built by and for the Atlantic Loading Company, the new munition concern whose plant is located several miles from this place. Amatol is now a hustling community of nearly two thousand people. The new service makes one trip a day between Berlin and Amatol, and two trips a day between this place and Amatol. Hundreds of employees patronized the service yesterday, the initial day of the project.', 'metadata': {'source_type': 'newspaper', 'source_id': 'philadelphia-inquirer', 'source_name': 'Philadelphia Inquirer', 'date': '1918-06-05', 'page': 'p13', 'title': 'Accommodations For Loaders', 'subtitles': [], 'attribution': 'Special to The Inquirer.', 'city_date': 'HAMMONTON, N. J., June 4', 'file_path': 'amatol-test/newspapers/1918/1918-06-05__philadelphia-inquirer__p13__new-train-service-and-population-size.txt', 'citation': 'Philadelphia Inquirer, 1918-06-05, p13, \"Accommodations For Loaders\"', 'doc_id': 'dcb25bd09c839a3073c91933c4db673487498843981dc9e3dbf5b12d1f9aa535'}}\n"
     ]
    }
   ],
   "source": [
    "client = QdrantClient(host=\"localhost\", port=6333)\n",
    "\n",
    "def view_vector_store(client, collection_name):\n",
    "    points, _ = client.scroll(\n",
    "        collection_name=COLLECTION_NAME,\n",
    "        limit=10,\n",
    "    )\n",
    "    for pt in points:\n",
    "        print(pt.id, pt.payload.keys())\n",
    "        print(pt.payload)\n",
    "\n",
    "view_vector_store(client, COLLECTION_NAME)"
   ]
  },
  {
   "cell_type": "code",
   "execution_count": 16,
   "id": "13b69bc4",
   "metadata": {},
   "outputs": [
    {
     "name": "stdout",
     "output_type": "stream",
     "text": [
      "Deleted document dcb25bd09c839a3073c91933c4db673487498843981dc9e3dbf5b12d1f9aa535 from DB and Qdrant.\n"
     ]
    }
   ],
   "source": [
    "from qdrant_client.models import Filter, FieldCondition, MatchValue\n",
    "\n",
    "def delete_document_from_store(con, client, collection_name: str, doc_id: str) -> None:\n",
    "    \"\"\"Delete a document from SQLite and Qdrant using its doc_id.\"\"\"\n",
    "    # 1. Delete from Qdrant\n",
    "    client.delete(\n",
    "        collection_name=collection_name,\n",
    "        wait=True,\n",
    "        points_selector=Filter(\n",
    "            must=[\n",
    "                FieldCondition(\n",
    "                    key=\"metadata.doc_id\",  # always nested\n",
    "                    match=MatchValue(value=str(doc_id))\n",
    "                )\n",
    "            ]\n",
    "        ),\n",
    "    )\n",
    "\n",
    "    # 2. Delete from SQLite\n",
    "    delete_document(con, doc_id)\n",
    "    print(f\"Deleted document {doc_id} from DB and Qdrant.\")\n",
    "\n",
    "con = ensure_db()\n",
    "# embeddings = OpenAIEmbeddings(model='text-embedding-3-small')\n",
    "client = QdrantClient(host=\"localhost\", port=6333)\n",
    "\n",
    "# Example: delete using the hash\n",
    "path = Path(\"./amatol-test/newspapers/1918/1918-06-05__philadelphia-inquirer__p13__new-train-service-and-population-size.txt\")\n",
    "h = file_sha256(path)\n",
    "delete_document_from_store(con, client, COLLECTION_NAME, h)"
   ]
  },
  {
   "cell_type": "code",
   "execution_count": 21,
   "id": "95571a1b",
   "metadata": {},
   "outputs": [],
   "source": [
    "view_vector_store(client, COLLECTION_NAME)"
   ]
  },
  {
   "cell_type": "code",
   "execution_count": 22,
   "id": "5a751a45",
   "metadata": {},
   "outputs": [
    {
     "data": {
      "text/plain": [
       "[]"
      ]
     },
     "execution_count": 22,
     "metadata": {},
     "output_type": "execute_result"
    }
   ],
   "source": [
    "list_all_documents(ensure_db())"
   ]
  },
  {
   "cell_type": "code",
   "execution_count": null,
   "id": "93c69b0a",
   "metadata": {},
   "outputs": [],
   "source": []
  }
 ],
 "metadata": {
  "kernelspec": {
   "display_name": ".venv",
   "language": "python",
   "name": "python3"
  },
  "language_info": {
   "codemirror_mode": {
    "name": "ipython",
    "version": 3
   },
   "file_extension": ".py",
   "mimetype": "text/x-python",
   "name": "python",
   "nbconvert_exporter": "python",
   "pygments_lexer": "ipython3",
   "version": "3.12.11"
  }
 },
 "nbformat": 4,
 "nbformat_minor": 5
}
